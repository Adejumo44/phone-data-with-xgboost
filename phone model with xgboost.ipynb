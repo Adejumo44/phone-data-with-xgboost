{
 "cells": [
  {
   "cell_type": "code",
   "execution_count": 15,
   "metadata": {},
   "outputs": [
    {
     "name": "stdout",
     "output_type": "stream",
     "text": [
      "0.07871171742520608\n",
      "0.20892431036394554\n",
      "      battery_power  blue  clock_speed  dual_sim  fc  four_g  int_memory  \\\n",
      "0               842     0          2.2         0   1       0           7   \n",
      "1              1021     1          0.5         1   0       1          53   \n",
      "2               563     1          0.5         1   2       1          41   \n",
      "3               615     1          2.5         0   0       0          10   \n",
      "4              1821     1          1.2         0  13       1          44   \n",
      "...             ...   ...          ...       ...  ..     ...         ...   \n",
      "1995            794     1          0.5         1   0       1           2   \n",
      "1996           1965     1          2.6         1   0       0          39   \n",
      "1997           1911     0          0.9         1   1       1          36   \n",
      "1998           1512     0          0.9         0   4       1          46   \n",
      "1999            510     1          2.0         1   5       1          45   \n",
      "\n",
      "      m_dep  mobile_wt  n_cores  ...  px_width   ram  sc_h  sc_w  talk_time  \\\n",
      "0       0.6        188        2  ...       756  2549     9     7         19   \n",
      "1       0.7        136        3  ...      1988  2631    17     3          7   \n",
      "2       0.9        145        5  ...      1716  2603    11     2          9   \n",
      "3       0.8        131        6  ...      1786  2769    16     8         11   \n",
      "4       0.6        141        2  ...      1212  1411     8     2         15   \n",
      "...     ...        ...      ...  ...       ...   ...   ...   ...        ...   \n",
      "1995    0.8        106        6  ...      1890   668    13     4         19   \n",
      "1996    0.2        187        4  ...      1965  2032    11    10         16   \n",
      "1997    0.7        108        8  ...      1632  3057     9     1          5   \n",
      "1998    0.1        145        5  ...       670   869    18    10         19   \n",
      "1999    0.9        168        6  ...       754  3919    19     4          2   \n",
      "\n",
      "      three_g  touch_screen  wifi  price_range  new_price_range  \n",
      "0           0             0     1            1              1.0  \n",
      "1           1             1     0            2              2.0  \n",
      "2           1             1     0            2              2.0  \n",
      "3           1             0     0            2              2.0  \n",
      "4           1             1     0            1              1.0  \n",
      "...       ...           ...   ...          ...              ...  \n",
      "1995        1             1     0            0              0.0  \n",
      "1996        1             1     1            2              2.0  \n",
      "1997        1             1     0            3              3.0  \n",
      "1998        1             1     1            0              0.0  \n",
      "1999        1             1     1            3              3.0  \n",
      "\n",
      "[2000 rows x 22 columns]\n"
     ]
    },
    {
     "name": "stderr",
     "output_type": "stream",
     "text": [
      "C:\\Users\\Adejumo Temiloluwa\\anaconda3new\\lib\\site-packages\\xgboost\\data.py:250: FutureWarning: pandas.Int64Index is deprecated and will be removed from pandas in a future version. Use pandas.Index with the appropriate dtype instead.\n",
      "  elif isinstance(data.columns, (pd.Int64Index, pd.RangeIndex)):\n"
     ]
    },
    {
     "data": {
      "text/plain": [
       "True     1941\n",
       "False      59\n",
       "Name: new, dtype: int64"
      ]
     },
     "execution_count": 15,
     "metadata": {},
     "output_type": "execute_result"
    }
   ],
   "source": [
    "from sklearn.model_selection import train_test_split\n",
    "from sklearn.metrics import mean_squared_error\n",
    "import xgboost as xgb\n",
    "import pandas as pd\n",
    "import numpy as np\n",
    "from sklearn.metrics import mean_absolute_error\n",
    "# load data\n",
    "train = pd.read_csv('train.csv')\n",
    "# Separating columns\n",
    "X = train.drop(columns = ['price_range'])\n",
    "y = train.price_range\n",
    "# splitting the data into train, test and validation sets\n",
    "X_train, X_test, y_train, y_test = train_test_split(X,y, test_size = 0.2)\n",
    "X_train, X_val, y_train, y_val = train_test_split(X,y, random_state = 0, test_size = 0.2)\n",
    "# calling the model\n",
    "regressor = xgb.XGBRegressor(n_estimators = 25, reg_lambda = 1, gamma = 0, max_depth = 4)\n",
    "# fitting the model\n",
    "regressor.fit(X_train, y_train)\n",
    "y_pred = regressor.predict(X_test)\n",
    "val_pred = regressor.predict(X_val)\n",
    "# validating the model\n",
    "print(mean_squared_error(y_val,val_pred))\n",
    "print(mean_absolute_error(y_val,val_pred))\n",
    "\n",
    "\n",
    "#loading test data\n",
    "test = pd.read_csv('test.csv')\n",
    "test = test.drop(columns = ['id'])\n",
    "#predicting price for test data\n",
    "price_for_test = np.rint(regressor.predict(test))\n",
    "# converting predicted price from np array to pd data frame\n",
    "price = {'price':price_for_test }\n",
    "price = pd.DataFrame(price) \n",
    "# merging the test data with the predicted price\n",
    "df = pd.concat([test, price], join = 'inner', axis = 1)\n",
    "\n",
    "#to view how our predicted price differs from the original price on the train data\n",
    "train = pd.read_csv('train.csv')\n",
    "#drop the price column in the train data\n",
    "train_ = train.drop(columns = ['price_range'])\n",
    "#predicting new price for the train data\n",
    "train_predictions =  np.round_(regressor.predict(train_))\n",
    "#converting the train_predictions from np to pd\n",
    "train_predictions = {'new_price_range': train_predictions }\n",
    "new_price_range = pd.DataFrame(train_predictions)\n",
    "data = [train,new_price_range]\n",
    "#data frame consisting of the original price and the new price(predicted price)\n",
    "df = pd.concat(data, axis = 1, join = 'inner')\n",
    "print(df)\n",
    "#True is where predicted price is the same as original orice, false is the opposite\n",
    "df['new'] = np.where((df['price_range'] == df['new_price_range']), True, False)\n",
    "df['new'].value_counts()"
   ]
  },
  {
   "cell_type": "code",
   "execution_count": null,
   "metadata": {},
   "outputs": [],
   "source": []
  }
 ],
 "metadata": {
  "kernelspec": {
   "display_name": "Python 3 (ipykernel)",
   "language": "python",
   "name": "python3"
  },
  "language_info": {
   "codemirror_mode": {
    "name": "ipython",
    "version": 3
   },
   "file_extension": ".py",
   "mimetype": "text/x-python",
   "name": "python",
   "nbconvert_exporter": "python",
   "pygments_lexer": "ipython3",
   "version": "3.9.12"
  }
 },
 "nbformat": 4,
 "nbformat_minor": 2
}
